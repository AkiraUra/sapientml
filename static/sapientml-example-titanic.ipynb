{
 "cells": [
  {
   "cell_type": "code",
   "execution_count": null,
   "metadata": {},
   "outputs": [],
   "source": [
    "!pip install -U sapientml"
   ]
  },
  {
   "cell_type": "code",
   "execution_count": null,
   "metadata": {},
   "outputs": [],
   "source": [
    "import pandas as pd\n",
    "from sapientml import SapientML\n",
    "from sapientml.util.logging import setup_logger\n",
    "from sklearn.metrics import f1_score\n",
    "from sklearn.model_selection import train_test_split\n",
    "\n",
    "setup_logger().handlers.clear()"
   ]
  },
  {
   "cell_type": "code",
   "execution_count": null,
   "metadata": {},
   "outputs": [],
   "source": [
    "train_data = pd.read_csv(\"https://github.com/sapientml/sapientml/files/12481088/titanic.csv\")\n",
    "train_data, test_data = train_test_split(train_data)\n",
    "train_data"
   ]
  },
  {
   "cell_type": "code",
   "execution_count": null,
   "metadata": {},
   "outputs": [],
   "source": [
    "y_true = test_data[\"survived\"].reset_index(drop=True)\n",
    "test_data.drop([\"survived\"], axis=1, inplace=True)\n",
    "\n",
    "cls = SapientML([\"survived\"])\n",
    "\n",
    "cls.fit(train_data)\n",
    "y_pred = cls.predict(test_data)\n",
    "\n",
    "pd.concat([y_pred[\"survived\"].rename(\"survived_pred\"), y_true], axis=1)"
   ]
  },
  {
   "cell_type": "code",
   "execution_count": null,
   "metadata": {},
   "outputs": [],
   "source": [
    "\n",
    "print(f\"F1 score: {f1_score(y_true, y_pred)}\")"
   ]
  }
 ],
 "metadata": {
  "language_info": {
   "name": "python"
  },
  "orig_nbformat": 4
 },
 "nbformat": 4,
 "nbformat_minor": 2
}
