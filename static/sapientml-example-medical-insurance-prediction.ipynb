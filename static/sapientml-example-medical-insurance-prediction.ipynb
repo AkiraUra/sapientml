{
 "cells": [
  {
   "cell_type": "code",
   "execution_count": null,
   "metadata": {},
   "outputs": [],
   "source": [
    "!pip install -U sapientml"
   ]
  },
  {
   "cell_type": "code",
   "execution_count": null,
   "metadata": {},
   "outputs": [],
   "source": [
    "import pandas as pd\n",
    "from sapientml import SapientML\n",
    "from sapientml.util.logging import setup_logger\n",
    "from sklearn.metrics import r2_score\n",
    "\n",
    "setup_logger().handlers.clear()"
   ]
  },
  {
   "cell_type": "code",
   "execution_count": null,
   "metadata": {},
   "outputs": [],
   "source": [
    "train_data = pd.read_csv(\"https://github.com/sapientml/sapientml/files/12617660/train_medical-insurance-prediction.csv\")\n",
    "test_data = pd.read_csv(\"https://github.com/sapientml/sapientml/files/12617696/test_medical-insurance-prediction.csv\")\n",
    "train_data"
   ]
  },
  {
   "cell_type": "code",
   "execution_count": null,
   "metadata": {},
   "outputs": [],
   "source": [
    "y_true = test_data[\"charges\"].reset_index(drop=True)\n",
    "test_data.drop([\"charges\"], axis=1, inplace=True)\n",
    "\n",
    "cls = SapientML([\"charges\"])\n",
    "\n",
    "cls.fit(train_data, ignore_columns=[\"Id\"])\n",
    "y_pred = cls.predict(test_data)\n",
    "\n",
    "pd.concat([y_pred[\"charges\"].rename(\"charges_pred\"), y_true], axis=1)"
   ]
  },
  {
   "cell_type": "code",
   "execution_count": null,
   "metadata": {},
   "outputs": [],
   "source": [
    "print(f\"R2 score: {r2_score(y_true, y_pred)}\")"
   ]
  }
 ],
 "metadata": {
  "language_info": {
   "name": "python"
  },
  "orig_nbformat": 4
 },
 "nbformat": 4,
 "nbformat_minor": 2
}
