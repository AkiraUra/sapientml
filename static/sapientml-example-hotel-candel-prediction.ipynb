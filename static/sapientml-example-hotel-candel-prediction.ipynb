{
 "cells": [
  {
   "cell_type": "code",
   "execution_count": null,
   "metadata": {},
   "outputs": [],
   "source": [
    "!pip install -U sapientml"
   ]
  },
  {
   "cell_type": "code",
   "execution_count": null,
   "metadata": {},
   "outputs": [],
   "source": [
    "import pandas as pd\n",
    "from sapientml import SapientML\n",
    "from sapientml.util.logging import setup_logger\n",
    "from sklearn.metrics import f1_score\n",
    "\n",
    "setup_logger().handlers.clear()\n",
    "\n",
    "train_data = pd.read_csv(\"https://github.com/sapientml/sapientml/files/12617021/train_hotelcancel-prediction.csv\")\n",
    "test_data = pd.read_csv(\"https://github.com/sapientml/sapientml/files/12617033/test_hotelcancel-prediction.csv\")\n",
    "y_true = test_data[\"Status\"].reset_index(drop=True)\n",
    "test_data.drop([\"Status\"], axis=1, inplace=True)\n",
    "\n",
    "cls = SapientML([\"Status\"])\n",
    "\n",
    "cls.fit(train_data, ignore_columns=[\"No.\"])\n",
    "y_pred = cls.predict(test_data)\n",
    "\n",
    "print(f\"F1 score: {f1_score(y_true, y_pred, pos_label='C')}\")"
   ]
  }
 ],
 "metadata": {
  "language_info": {
   "name": "python"
  },
  "orig_nbformat": 4
 },
 "nbformat": 4,
 "nbformat_minor": 2
}
